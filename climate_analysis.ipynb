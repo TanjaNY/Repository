{
 "cells": [
  {
   "cell_type": "code",
   "execution_count": 56,
   "metadata": {},
   "outputs": [],
   "source": [
    "#Dependencies\n",
    "import sqlalchemy\n",
    "from sqlalchemy.ext.automap import automap_base\n",
    "from sqlalchemy.orm import Session\n",
    "from sqlalchemy import create_engine\n",
    "from sqlalchemy import create_engine, inspect, func"
   ]
  },
  {
   "cell_type": "code",
   "execution_count": 57,
   "metadata": {},
   "outputs": [],
   "source": [
    "import matplotlib\n",
    "from matplotlib import style\n",
    "style.use('seaborn')\n",
    "import matplotlib.pyplot as plt\n"
   ]
  },
  {
   "cell_type": "code",
   "execution_count": 58,
   "metadata": {},
   "outputs": [],
   "source": [
    "import pandas as pd\n",
    "from pandas import DataFrame\n",
    "import sqlite3\n",
    "import numpy as np\n",
    "from sqlalchemy import distinct\n",
    "from sqlalchemy import func\n",
    "\n"
   ]
  },
  {
   "cell_type": "markdown",
   "metadata": {},
   "source": [
    "**Step 3 - Climate Analysis and Exploration**"
   ]
  },
  {
   "cell_type": "code",
   "execution_count": 59,
   "metadata": {},
   "outputs": [],
   "source": [
    "# Create engine \n",
    "from sqlalchemy import event\n",
    "from sqlalchemy import exc\n",
    "import os\n",
    "\n",
    "engine = create_engine(\"sqlite:///hawaii.sqlite\",echo=False )\n",
    "\n",
    "@event.listens_for(engine, \"connect\")\n",
    "def connect(dbapi_connection, connection_record):\n",
    "    connection_record.info['pid'] = os.getpid()\n",
    "\n",
    "@event.listens_for(engine, \"checkout\")\n",
    "def checkout(dbapi_connection, connection_record, connection_proxy):\n",
    "    pid = os.getpid()\n",
    "    if connection_record.info['pid'] != pid:\n",
    "        connection_record.connection = connection_proxy.connection = None\n",
    "        raise exc.DisconnectionError(\n",
    "                \"Connection record belongs to pid %s, \"\n",
    "                \"attempting to check out in pid %s\" %\n",
    "                (connection_record.info['pid'], pid)\n",
    "        )\n"
   ]
  },
  {
   "cell_type": "code",
   "execution_count": 60,
   "metadata": {},
   "outputs": [],
   "source": [
    "# Declare a Base using `automap_base()`\n",
    "Base = automap_base()"
   ]
  },
  {
   "cell_type": "code",
   "execution_count": 61,
   "metadata": {},
   "outputs": [],
   "source": [
    "# Use the Base class to reflect the database tables\n",
    "Base.prepare(engine, reflect=True)"
   ]
  },
  {
   "cell_type": "code",
   "execution_count": 62,
   "metadata": {},
   "outputs": [
    {
     "data": {
      "text/plain": [
       "['measurement', 'station']"
      ]
     },
     "execution_count": 62,
     "metadata": {},
     "output_type": "execute_result"
    }
   ],
   "source": [
    "# Print all of the classes mapped to the Base\n",
    "Base.classes.keys()\n"
   ]
  },
  {
   "cell_type": "code",
   "execution_count": 63,
   "metadata": {},
   "outputs": [],
   "source": [
    "Measurement = Base.classes.measurement\n",
    "Station = Base.classes.station\n",
    "conn = engine.connect()\n"
   ]
  },
  {
   "cell_type": "code",
   "execution_count": 64,
   "metadata": {},
   "outputs": [
    {
     "name": "stdout",
     "output_type": "stream",
     "text": [
      "id INTEGER\n",
      "station VARCHAR(255)\n",
      "date VARCHAR(255)\n",
      "prcp INTEGER\n",
      "tobs INTEGER\n"
     ]
    }
   ],
   "source": [
    "#inspect data\n",
    "inspector = inspect(engine)\n",
    "columns = inspector.get_columns('measurement')\n",
    "for c in columns:\n",
    "    print(c['name'], c[\"type\"])"
   ]
  },
  {
   "cell_type": "code",
   "execution_count": 65,
   "metadata": {},
   "outputs": [],
   "source": [
    "# Create a session\n",
    "session = Session(engine)"
   ]
  },
  {
   "cell_type": "code",
   "execution_count": 66,
   "metadata": {},
   "outputs": [
    {
     "data": {
      "text/plain": [
       "['measurement', 'station']"
      ]
     },
     "execution_count": 66,
     "metadata": {},
     "output_type": "execute_result"
    }
   ],
   "source": [
    "inspector.get_table_names()"
   ]
  },
  {
   "cell_type": "code",
   "execution_count": 67,
   "metadata": {},
   "outputs": [
    {
     "name": "stdout",
     "output_type": "stream",
     "text": [
      "('2017-08-23',)\n"
     ]
    }
   ],
   "source": [
    "#identify last date of mesurement\n",
    "some_list=conn.execute(\"select date from measurement\").fetchall()\n",
    "last_date=some_list[-1]\n",
    "print(last_date)"
   ]
  },
  {
   "cell_type": "code",
   "execution_count": 68,
   "metadata": {},
   "outputs": [
    {
     "name": "stdout",
     "output_type": "stream",
     "text": [
      "Start date:  2011-04-08    Finish Date:  2011-03-24\n"
     ]
    }
   ],
   "source": [
    "#set up dates of trip\n",
    "\n",
    "import datetime as dt\n",
    "query_date = dt.date(2011, 4, 8) - dt.timedelta(days=15)\n",
    "\n",
    "print(\"Start date: \", dt.date(2011, 4, 8) ,\" \",\" Finish Date: \" , query_date )\n"
   ]
  },
  {
   "cell_type": "markdown",
   "metadata": {},
   "source": [
    "**Precipitation Analysis**\n"
   ]
  },
  {
   "cell_type": "code",
   "execution_count": 69,
   "metadata": {},
   "outputs": [
    {
     "data": {
      "text/html": [
       "<div>\n",
       "<style scoped>\n",
       "    .dataframe tbody tr th:only-of-type {\n",
       "        vertical-align: middle;\n",
       "    }\n",
       "\n",
       "    .dataframe tbody tr th {\n",
       "        vertical-align: top;\n",
       "    }\n",
       "\n",
       "    .dataframe thead th {\n",
       "        text-align: right;\n",
       "    }\n",
       "</style>\n",
       "<table border=\"1\" class=\"dataframe\">\n",
       "  <thead>\n",
       "    <tr style=\"text-align: right;\">\n",
       "      <th></th>\n",
       "      <th>date</th>\n",
       "      <th>Precipitation</th>\n",
       "    </tr>\n",
       "  </thead>\n",
       "  <tbody>\n",
       "    <tr>\n",
       "      <th>2427</th>\n",
       "      <td>2016-08-24</td>\n",
       "      <td>1.332857</td>\n",
       "    </tr>\n",
       "    <tr>\n",
       "      <th>2428</th>\n",
       "      <td>2016-08-25</td>\n",
       "      <td>0.077143</td>\n",
       "    </tr>\n",
       "    <tr>\n",
       "      <th>2429</th>\n",
       "      <td>2016-08-26</td>\n",
       "      <td>0.016667</td>\n",
       "    </tr>\n",
       "    <tr>\n",
       "      <th>2430</th>\n",
       "      <td>2016-08-27</td>\n",
       "      <td>0.053333</td>\n",
       "    </tr>\n",
       "    <tr>\n",
       "      <th>2431</th>\n",
       "      <td>2016-08-28</td>\n",
       "      <td>0.516667</td>\n",
       "    </tr>\n",
       "  </tbody>\n",
       "</table>\n",
       "</div>"
      ],
      "text/plain": [
       "            date  Precipitation\n",
       "2427  2016-08-24       1.332857\n",
       "2428  2016-08-25       0.077143\n",
       "2429  2016-08-26       0.016667\n",
       "2430  2016-08-27       0.053333\n",
       "2431  2016-08-28       0.516667"
      ]
     },
     "execution_count": 69,
     "metadata": {},
     "output_type": "execute_result"
    }
   ],
   "source": [
    "#create dataframe\n",
    "results = session.query( Measurement.date, Measurement.prcp).\\\n",
    "     order_by(Measurement.date.desc()).all()\n",
    "plot_data_df=pd.DataFrame(results)\n",
    "plot_df=plot_data_df.groupby(['date'])['prcp'].mean().reset_index().tail(365)\n",
    "plot=plot_df.rename(columns={\"prcp\":\"Precipitation\"})\n",
    "date_list=plot['date']\n",
    "prcp_list=plot['Precipitation']\n",
    "random_list=np.random.choice(date_list,8)\n",
    "random_list_sort=np.sort(random_list)[::-1]\n",
    "plot.head()\n"
   ]
  },
  {
   "cell_type": "code",
   "execution_count": 70,
   "metadata": {},
   "outputs": [
    {
     "data": {
      "image/png": "[encoded data removed]",
      "text/plain": [
       "<matplotlib.figure.Figure at 0x2bfe6a5d128>"
      ]
     },
     "metadata": {},
     "output_type": "display_data"
    }
   ],
   "source": [
    "#creat plot\n",
    "new_df=plot_df.plot(x=date_list,subplots=True)\n",
    "#ax = fig.add_subplot(111)\n",
    "#fig, ax = plt.subplots(111)\n",
    "#ax.set_xticks(date)\n",
    "xlabels=random_list_sort\n",
    "plt.xticks(np.arange(0,365,50),xlabels, rotation = 'vertical')\n",
    "plt.xlabel(\"date\")\n",
    "plt.legend(labels=['Precipitation'],loc='upper left',frameon=True)\n",
    "plt.show()"
   ]
  },
  {
   "cell_type": "markdown",
   "metadata": {},
   "source": [
    "**Station Analysis**\n"
   ]
  },
  {
   "cell_type": "code",
   "execution_count": 71,
   "metadata": {},
   "outputs": [
    {
     "name": "stdout",
     "output_type": "stream",
     "text": [
      "(9,)\n"
     ]
    }
   ],
   "source": [
    "#find number of stations\n",
    "stations=session.query(func.count(distinct(Measurement.station))).one()\n",
    "print(stations)\n"
   ]
  },
  {
   "cell_type": "code",
   "execution_count": 72,
   "metadata": {},
   "outputs": [
    {
     "name": "stdout",
     "output_type": "stream",
     "text": [
      "('USC00519281', 2772)\n"
     ]
    }
   ],
   "source": [
    "#find station with the biggest number of the observtions\n",
    "observations=session.query(Measurement.station,func.count(Measurement.tobs)).\\\n",
    "             group_by(Measurement.station).order_by(func.count(Measurement.tobs).desc()).first()\n",
    "\n",
    "print(observations)\n",
    "\n"
   ]
  },
  {
   "cell_type": "code",
   "execution_count": 73,
   "metadata": {},
   "outputs": [
    {
     "name": "stdout",
     "output_type": "stream",
     "text": [
      "[('USC00519281', 54, 1), ('USC00519281', 56, 4), ('USC00519281', 57, 6), ('USC00519281', 58, 6), ('USC00519281', 59, 5), ('USC00519281', 60, 15), ('USC00519281', 61, 19), ('USC00519281', 62, 37), ('USC00519281', 63, 33), ('USC00519281', 64, 41), ('USC00519281', 65, 71), ('USC00519281', 66, 80), ('USC00519281', 67, 111), ('USC00519281', 68, 143), ('USC00519281', 69, 193), ('USC00519281', 70, 227), ('USC00519281', 71, 265), ('USC00519281', 72, 290), ('USC00519281', 73, 278), ('USC00519281', 74, 261), ('USC00519281', 75, 204), ('USC00519281', 76, 148), ('USC00519281', 77, 111), ('USC00519281', 78, 88), ('USC00519281', 79, 54), ('USC00519281', 80, 43), ('USC00519281', 81, 22), ('USC00519281', 82, 11), ('USC00519281', 83, 3), ('USC00519281', 84, 1), ('USC00519281', 85, 1)]\n"
     ]
    }
   ],
   "source": [
    "# print data for the sattion with the most observations done\n",
    "temps=session.query(Measurement.station,Measurement.tobs,func.count(Measurement.tobs)).group_by(Measurement.tobs).\\\n",
    "      filter(Measurement.station == 'USC00519281').all()\n",
    "print(temps)"
   ]
  },
  {
   "cell_type": "code",
   "execution_count": 90,
   "metadata": {},
   "outputs": [],
   "source": [
    "#find measurments\n",
    "hist_data=session.query(Measurement.tobs).\\\n",
    "          group_by(Measurement.date).all()  \n",
    "    \n",
    "          \n"
   ]
  },
  {
   "cell_type": "code",
   "execution_count": 91,
   "metadata": {},
   "outputs": [
    {
     "data": {
      "text/plain": [
       "<matplotlib.axes._subplots.AxesSubplot at 0x2bfe7d91fd0>"
      ]
     },
     "execution_count": 91,
     "metadata": {},
     "output_type": "execute_result"
    },
    {
     "data": {
      "text/plain": [
       "<matplotlib.figure.Figure at 0x2bfe68d6518>"
      ]
     },
     "metadata": {},
     "output_type": "display_data"
    },
    {
     "data": {
      "image/png": "[encoded data removed]",
      "text/plain": [
       "<matplotlib.figure.Figure at 0x2bfe7d86668>"
      ]
     },
     "metadata": {},
     "output_type": "display_data"
    }
   ],
   "source": [
    "#create histogram\n",
    "plt_data=pd.DataFrame(hist_data)\n",
    "plt.figure();\n",
    "plt_data.plot.hist(bins=12)"
   ]
  },
  {
   "cell_type": "markdown",
   "metadata": {},
   "source": [
    "**Temperature Analysis**"
   ]
  },
  {
   "cell_type": "code",
   "execution_count": 77,
   "metadata": {},
   "outputs": [],
   "source": [
    "#dependencies, date one year ago\n",
    "from datetime import date\n",
    "from datetime import time\n",
    "import datetime\n",
    "\n",
    "b=dt.date.today()-dt.timedelta(365)\n",
    "b\n",
    "res_list=[]"
   ]
  },
  {
   "cell_type": "code",
   "execution_count": 78,
   "metadata": {},
   "outputs": [],
   "source": [
    "#create function calc_temps\n",
    "import datetime as dt\n",
    "import numpy as np\n",
    "from datetime import date\n",
    "from typing import Tuple\n",
    "\n",
    "def calc_temps (start_date:str,\n",
    "                end_date:str):\n",
    "    s_date=datetime.datetime.strptime(start_date,\"%Y-%m-%d\")\n",
    "    e_date=datetime.datetime.strptime(end_date,\"%Y-%m-%d\")\n",
    "    \n",
    "    qu=[\n",
    "                    func.avg(Measurement.tobs),\n",
    "                    func.max(Measurement.tobs),\n",
    "                    func.min(Measurement.tobs)\n",
    "                     ]\n",
    "    result=session.query(*qu).\\\n",
    "                filter(Measurement.date > s_date).\\\n",
    "                filter(Measurement.date < e_date).all()\n",
    "    res_list = list(np.ravel(result))\n",
    "    \n",
    "    print(\"Average, maximal and minimal temperature for the period:\", res_list)\n",
    "    return res_list"
   ]
  },
  {
   "cell_type": "code",
   "execution_count": 79,
   "metadata": {},
   "outputs": [
    {
     "name": "stdout",
     "output_type": "stream",
     "text": [
      "Average, maximal and minimal temperature for the period: [77.77215189873418, 84.0, 71.0]\n"
     ]
    },
    {
     "data": {
      "text/plain": [
       "[77.77215189873418, 84.0, 71.0]"
      ]
     },
     "execution_count": 79,
     "metadata": {},
     "output_type": "execute_result"
    }
   ],
   "source": [
    "#apply function\n",
    "start_date=('2016-8-30')\n",
    "end_date=('2016-9-12')\n",
    "calc_temps(start_date,end_date)\n"
   ]
  },
  {
   "cell_type": "code",
   "execution_count": 80,
   "metadata": {},
   "outputs": [
    {
     "data": {
      "image/png": "[encoded data removed]",
      "text/plain": [
       "<matplotlib.figure.Figure at 0x2bfeb794780>"
      ]
     },
     "metadata": {},
     "output_type": "display_data"
    }
   ],
   "source": [
    "#create plot\n",
    "import numpy as np\n",
    "start_date=('2016-8-30')\n",
    "end_date=('2016-9-12')\n",
    "s_date=datetime.datetime.strptime(start_date,\"%Y-%m-%d\")\n",
    "e_date=datetime.datetime.strptime(end_date,\"%Y-%m-%d\")\n",
    "    \n",
    "qu=[\n",
    "                    func.avg(Measurement.tobs),\n",
    "                    func.max(Measurement.tobs),\n",
    "                    func.min(Measurement.tobs)\n",
    "                     ]\n",
    "aresult=session.query(*qu).\\\n",
    "                filter(Measurement.date > s_date).\\\n",
    "                filter(Measurement.date < e_date).all()\n",
    "ares_list = list(np.ravel(aresult))\n",
    "fig, ax = plt.subplots()\n",
    "\n",
    "x = range(len(ares_list))\n",
    "ax.boxplot(ares_list, patch_artist=True)\n",
    "ax.set_title('Average,naximal and minimal temperatures')\n",
    "fig.tight_layout()\n"
   ]
  },
  {
   "cell_type": "markdown",
   "metadata": {},
   "source": [
    "# **Step 4 - Climate App**"
   ]
  },
  {
   "cell_type": "code",
   "execution_count": 81,
   "metadata": {},
   "outputs": [],
   "source": [
    "# 1. Import Flask\n",
    "from flask import Flask"
   ]
  },
  {
   "cell_type": "code",
   "execution_count": 82,
   "metadata": {},
   "outputs": [],
   "source": [
    "app = Flask(__name__)\n"
   ]
  },
  {
   "cell_type": "code",
   "execution_count": 83,
   "metadata": {},
   "outputs": [
    {
     "ename": "SyntaxError",
     "evalue": "invalid syntax (<ipython-input-83-5d1536c2803c>, line 8)",
     "output_type": "error",
     "traceback": [
      "\u001b[1;36m  File \u001b[1;32m\"<ipython-input-83-5d1536c2803c>\"\u001b[1;36m, line \u001b[1;32m8\u001b[0m\n\u001b[1;33m    for measurement in presults\u001b[0m\n\u001b[1;37m                               ^\u001b[0m\n\u001b[1;31mSyntaxError\u001b[0m\u001b[1;31m:\u001b[0m invalid syntax\n"
     ]
    }
   ],
   "source": [
    "@app.route(\"/api/v1.0/precipitation\")\n",
    "def precipitation():\n",
    "    year_ago=dt.date.today()-dt.timedelta(365)\n",
    "    presults = session.query(Measurement.date,Measurement.tobs).\\\n",
    "    filter(Measurement.date > year_ago).all()\n",
    "    \n",
    "    prec_all=[]\n",
    "    \n",
    "    for measurement in presults\n",
    "        prec_dict={}\n",
    "        prec_dict['date'].key()=Measurement.date\n",
    "        prec_dict['tobs'].value()=Measurement.tobs\n",
    "        prec_all.append(prec_dict)\n",
    "    \n",
    "return jsonsfy(prec_all=[]) \n",
    "\n",
    "@app.route(\"/api/v1.0/stations\")\n",
    "def stations():\n",
    "    sresult=session.query(distinct(Measurement.station).all()\n",
    "    stations_all=[] \n",
    "    for station in sresult\n",
    "    stations_all.append(station) \n",
    "                          \n",
    "return jsonsfy(stations_all) \n",
    "                        \n",
    "                          \n",
    "@app.route(\"/api/v1.0/tobs\")\n",
    "def tobs():\n",
    "    tresults=session.query(Measurement.tobs).\\\n",
    "             filter(Measurement.date > year_ago)\n",
    "     tobs_all=[]\n",
    "    for tob in tresults\n",
    "    tobs_all.append(tob)\n",
    "                          \n",
    "@app.route(\"/api/v1.0/<start>\")\n",
    "def calc01 ():\n",
    "    qu=[Measurement.tobs,\n",
    "                    func.avg(Measurement.tobs),\n",
    "                    func.max(Measurement.tobs),\n",
    "                    func.min(Measurement.tobs)\n",
    "                     ]\n",
    "    cresult=session.query(*qu).\\\n",
    "                filter(Measurement.date > star_date).al()\n",
    "print(\"TVAG,TMAX and TMIN are:\",cresult)\n",
    "                          \n",
    "@app.route(\"/api/v1.0/<start>/<end>\")\n",
    "\n",
    "calc_temps(start_date,end_date)                         \n",
    "print(\"TVAG,TMAX and TMIN are:\",res_list)    \n",
    "                "
   ]
  },
  {
   "cell_type": "code",
   "execution_count": null,
   "metadata": {},
   "outputs": [],
   "source": []
  }
 ],
 "metadata": {
  "kernelspec": {
   "display_name": "Python 3",
   "language": "python",
   "name": "python3"
  },
  "language_info": {
   "codemirror_mode": {
    "name": "ipython",
    "version": 3
   },
   "file_extension": ".py",
   "mimetype": "text/x-python",
   "name": "python",
   "nbconvert_exporter": "python",
   "pygments_lexer": "ipython3",
   "version": "3.6.4"
  }
 },
 "nbformat": 4,
 "nbformat_minor": 2
}
